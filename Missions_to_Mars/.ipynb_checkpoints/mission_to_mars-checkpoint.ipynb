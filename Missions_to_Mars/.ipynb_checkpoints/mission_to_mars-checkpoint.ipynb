{
 "cells": [
  {
   "cell_type": "code",
   "execution_count": 1,
   "id": "4ec4762a",
   "metadata": {},
   "outputs": [],
   "source": [
    "# Import Dependencies\n",
    "\n",
    "from bs4 import BeautifulSoup\n",
    "import requests\n",
    "from splinter import Browser\n",
    "from webdriver_manager.chrome import ChromeDriverManager\n",
    "from selenium import webdriver\n",
    "import time\n",
    "import pandas as pd\n",
    "import warnings\n",
    "import re\n",
    "warnings.filterwarnings('ignore')"
   ]
  },
  {
   "cell_type": "code",
   "execution_count": 2,
   "id": "94b5512b",
   "metadata": {},
   "outputs": [],
   "source": [
    "# Setup Splinter\n",
    "executable_path = {'executable_path': ChromeDriverManager().install()}\n",
    "browser = Browser('chrome', **executable_path, headless= False)"
   ]
  },
  {
   "cell_type": "code",
   "execution_count": 3,
   "id": "82313d88",
   "metadata": {},
   "outputs": [],
   "source": [
    "# News url to be scraped\n",
    "\n",
    "news_url = 'https://redplanetscience.com/'\n",
    "\n",
    "# Test response\n",
    "response = requests.get(news_url)\n",
    "# response\n",
    "\n",
    "# Visit url and convert browser to html\n",
    "browser.visit(news_url)\n",
    "news_html = browser.html\n",
    "\n",
    "# Create BS object to pasre the html, use html.parser\n",
    "news_soup = BeautifulSoup(news_html, 'html.parser')\n",
    "# print(news_soup)\n",
    "\n",
    "# Find latest News Title and Paragraph text, assign to variables for later use\n",
    "\n",
    "# Look for: div with 'content_title' class for News Title\n",
    "title = news_soup.find('div', class_= 'content_title')\n",
    "news_title = ''\n",
    "\n",
    "for t in title: \n",
    "#     print(t)\n",
    "    news_title += str(t)\n",
    "    \n",
    "# Look for: div with 'article_teaser_body' class for paragraph text\n",
    "p_text = news_soup.find('div', class_= 'article_teaser_body')\n",
    "news_p = ''\n",
    "\n",
    "for np in p_text: \n",
    "#     print(np)\n",
    "    news_p += str(np)\n"
   ]
  },
  {
   "cell_type": "code",
   "execution_count": 4,
   "id": "1404694d",
   "metadata": {
    "scrolled": false
   },
   "outputs": [
    {
     "data": {
      "text/plain": [
       "'https://spaceimages-mars.com/image/featured/mars2.jpg'"
      ]
     },
     "execution_count": 4,
     "metadata": {},
     "output_type": "execute_result"
    }
   ],
   "source": [
    "# Space images url to be scraped\n",
    "\n",
    "space_imageURL = 'https://spaceimages-mars.com/'\n",
    "\n",
    "# Visit url and convert browser to html\n",
    "browser.visit(space_imageURL)\n",
    "space_imageHTML = browser.html\n",
    "\n",
    "# Create BS object to pasre the html, use html.parser\n",
    "space_image_soup = BeautifulSoup(space_imageHTML, 'html.parser')\n",
    "# print(space_image_soup)\n",
    "\n",
    "\n",
    "# Find image URL for Featured Mars Image\n",
    "\n",
    "image_href = space_image_soup.find('div', class_='floating_text_area' )\n",
    "# print(image_href.a['href'])\n",
    "featured_image_url = f\"{space_imageURL + image_href.a['href']}\"\n",
    "featured_image_url\n",
    "\n",
    "\n",
    "\n",
    "# <div class=\"floating_text_area\">\n",
    "# <h2 class=\"brand_title\">FEATURED IMAGE</h2>\n",
    "# <h1 class=\"media_feature_title\">Dusty Space Cloud</h1>\n",
    "# <br/>\n",
    "# <a class=\"showimg fancybox-thumbs\" href=\"image/featured/mars2.jpg\" target=\"_blank\"> <button class=\"btn btn-outline-light\"> FULL IMAGE</button></a>\n",
    "# </div>"
   ]
  },
  {
   "cell_type": "code",
   "execution_count": 5,
   "id": "64612793",
   "metadata": {
    "scrolled": true
   },
   "outputs": [],
   "source": [
    "# Galaxyfacts- mars url to be scraped\n",
    "\n",
    "facts_url = 'https://galaxyfacts-mars.com/'\n",
    "\n",
    "# Read html \n",
    "facts_table = pd.read_html(facts_url)\n",
    "# facts_table\n",
    "\n",
    "\n",
    "# Check facts_table type\n",
    "type(facts_table)\n",
    "\n",
    "\n",
    "# Convert both tables into a Pandas DF\n",
    "facts_comparisonDF = facts_table[0]\n",
    "# facts_comparisonDF.head(10)\n",
    "\n",
    "facts_marsDF = facts_table[1]\n",
    "# facts_marsDF.head(10)\n",
    "\n",
    "\n",
    "# -----------------------------------------------------------\n",
    "# <div class=\"sidebar\">\n",
    "# <h5>MARS PLANET PROFILE</h5>\n",
    "# <table class=\"table table-striped\">\n",
    "# # Visit url and convert browser to html\n",
    "# browser.visit(facts_url)\n",
    "# facts_html = browser.html\n",
    "\n",
    "# # Create BS object to pasre the html, use html.parser\n",
    "# facts_soup = BeautifulSoup(facts_html, 'html.parser')\n",
    "# # print(facts_soup)"
   ]
  },
  {
   "cell_type": "code",
   "execution_count": 6,
   "id": "05ca3c39",
   "metadata": {},
   "outputs": [
    {
     "data": {
      "text/html": [
       "<div>\n",
       "<style scoped>\n",
       "    .dataframe tbody tr th:only-of-type {\n",
       "        vertical-align: middle;\n",
       "    }\n",
       "\n",
       "    .dataframe tbody tr th {\n",
       "        vertical-align: top;\n",
       "    }\n",
       "\n",
       "    .dataframe thead th {\n",
       "        text-align: right;\n",
       "    }\n",
       "</style>\n",
       "<table border=\"1\" class=\"dataframe\">\n",
       "  <thead>\n",
       "    <tr style=\"text-align: right;\">\n",
       "      <th></th>\n",
       "      <th>Mars - Earth Comparison</th>\n",
       "      <th>Mars</th>\n",
       "      <th>Earth</th>\n",
       "    </tr>\n",
       "  </thead>\n",
       "  <tbody>\n",
       "    <tr>\n",
       "      <th>0</th>\n",
       "      <td>Diameter:</td>\n",
       "      <td>6,779 km</td>\n",
       "      <td>12,742 km</td>\n",
       "    </tr>\n",
       "    <tr>\n",
       "      <th>1</th>\n",
       "      <td>Mass:</td>\n",
       "      <td>6.39 × 10^23 kg</td>\n",
       "      <td>5.97 × 10^24 kg</td>\n",
       "    </tr>\n",
       "    <tr>\n",
       "      <th>2</th>\n",
       "      <td>Moons:</td>\n",
       "      <td>2</td>\n",
       "      <td>1</td>\n",
       "    </tr>\n",
       "    <tr>\n",
       "      <th>3</th>\n",
       "      <td>Distance from Sun:</td>\n",
       "      <td>227,943,824 km</td>\n",
       "      <td>149,598,262 km</td>\n",
       "    </tr>\n",
       "    <tr>\n",
       "      <th>4</th>\n",
       "      <td>Length of Year:</td>\n",
       "      <td>687 Earth days</td>\n",
       "      <td>365.24 days</td>\n",
       "    </tr>\n",
       "    <tr>\n",
       "      <th>5</th>\n",
       "      <td>Temperature:</td>\n",
       "      <td>-87 to -5 °C</td>\n",
       "      <td>-88 to 58°C</td>\n",
       "    </tr>\n",
       "  </tbody>\n",
       "</table>\n",
       "</div>"
      ],
      "text/plain": [
       "0 Mars - Earth Comparison             Mars            Earth\n",
       "0               Diameter:         6,779 km        12,742 km\n",
       "1                   Mass:  6.39 × 10^23 kg  5.97 × 10^24 kg\n",
       "2                  Moons:                2                1\n",
       "3      Distance from Sun:   227,943,824 km   149,598,262 km\n",
       "4         Length of Year:   687 Earth days      365.24 days\n",
       "5            Temperature:     -87 to -5 °C      -88 to 58°C"
      ]
     },
     "execution_count": 6,
     "metadata": {},
     "output_type": "execute_result"
    }
   ],
   "source": [
    "# Clean facts_comparisonDF, fix header\n",
    "\n",
    "# Grab first row for the header\n",
    "header1 = facts_comparisonDF.iloc[0]\n",
    "\n",
    "# Take the data less the header row\n",
    "facts_comparisonDF = facts_comparisonDF[1:]\n",
    "\n",
    "# Set the header row as the df header\n",
    "facts_comparisonDF.columns = header1\n",
    "\n",
    "# Reset index and drop columns\n",
    "facts_comparisonDF.reset_index(inplace= True)\n",
    "facts_comparisonDF.drop(columns= 'index', inplace= True)\n",
    "facts_comparisonDF"
   ]
  },
  {
   "cell_type": "code",
   "execution_count": 7,
   "id": "661fbedf",
   "metadata": {},
   "outputs": [
    {
     "data": {
      "text/html": [
       "<div>\n",
       "<style scoped>\n",
       "    .dataframe tbody tr th:only-of-type {\n",
       "        vertical-align: middle;\n",
       "    }\n",
       "\n",
       "    .dataframe tbody tr th {\n",
       "        vertical-align: top;\n",
       "    }\n",
       "\n",
       "    .dataframe thead th {\n",
       "        text-align: right;\n",
       "    }\n",
       "</style>\n",
       "<table border=\"1\" class=\"dataframe\">\n",
       "  <thead>\n",
       "    <tr style=\"text-align: right;\">\n",
       "      <th></th>\n",
       "      <th>Equatorial Diameter:</th>\n",
       "      <th>6,792 km</th>\n",
       "    </tr>\n",
       "  </thead>\n",
       "  <tbody>\n",
       "    <tr>\n",
       "      <th>0</th>\n",
       "      <td>Polar Diameter:</td>\n",
       "      <td>6,752 km</td>\n",
       "    </tr>\n",
       "    <tr>\n",
       "      <th>1</th>\n",
       "      <td>Mass:</td>\n",
       "      <td>6.39 × 10^23 kg (0.11 Earths)</td>\n",
       "    </tr>\n",
       "    <tr>\n",
       "      <th>2</th>\n",
       "      <td>Moons:</td>\n",
       "      <td>2 ( Phobos &amp; Deimos )</td>\n",
       "    </tr>\n",
       "    <tr>\n",
       "      <th>3</th>\n",
       "      <td>Orbit Distance:</td>\n",
       "      <td>227,943,824 km (1.38 AU)</td>\n",
       "    </tr>\n",
       "    <tr>\n",
       "      <th>4</th>\n",
       "      <td>Orbit Period:</td>\n",
       "      <td>687 days (1.9 years)</td>\n",
       "    </tr>\n",
       "    <tr>\n",
       "      <th>5</th>\n",
       "      <td>Surface Temperature:</td>\n",
       "      <td>-87 to -5 °C</td>\n",
       "    </tr>\n",
       "    <tr>\n",
       "      <th>6</th>\n",
       "      <td>First Record:</td>\n",
       "      <td>2nd millennium BC</td>\n",
       "    </tr>\n",
       "    <tr>\n",
       "      <th>7</th>\n",
       "      <td>Recorded By:</td>\n",
       "      <td>Egyptian astronomers</td>\n",
       "    </tr>\n",
       "  </tbody>\n",
       "</table>\n",
       "</div>"
      ],
      "text/plain": [
       "0  Equatorial Diameter:                       6,792 km\n",
       "0       Polar Diameter:                       6,752 km\n",
       "1                 Mass:  6.39 × 10^23 kg (0.11 Earths)\n",
       "2                Moons:          2 ( Phobos & Deimos )\n",
       "3       Orbit Distance:       227,943,824 km (1.38 AU)\n",
       "4         Orbit Period:           687 days (1.9 years)\n",
       "5  Surface Temperature:                   -87 to -5 °C\n",
       "6         First Record:              2nd millennium BC\n",
       "7          Recorded By:           Egyptian astronomers"
      ]
     },
     "execution_count": 7,
     "metadata": {},
     "output_type": "execute_result"
    }
   ],
   "source": [
    "# Clean facts_marsDF, fix header\n",
    "\n",
    "# Grab first row for the header\n",
    "header2 = facts_marsDF.iloc[0]\n",
    "\n",
    "# Take the data less the header row\n",
    "facts_marsDF = facts_marsDF[1:]\n",
    "\n",
    "# Set the header row as the df header\n",
    "facts_marsDF.columns = header2\n",
    "\n",
    "# Reset index and drop columns\n",
    "facts_marsDF.reset_index(inplace= True)\n",
    "facts_marsDF.drop(columns= 'index', inplace= True)\n",
    "facts_marsDF"
   ]
  },
  {
   "cell_type": "code",
   "execution_count": 19,
   "id": "81047f6e",
   "metadata": {},
   "outputs": [],
   "source": [
    "# Convert DFs to html string\n",
    "\n",
    "marscomparisons_html = facts_comparisonDF.to_html()\n",
    "# marscomparisons_html\n",
    "\n",
    "marsfacts_html = facts_comparisonDF.to_html()\n",
    "# marsfacts_html"
   ]
  },
  {
   "cell_type": "code",
   "execution_count": 8,
   "id": "e33e7297",
   "metadata": {
    "scrolled": true
   },
   "outputs": [],
   "source": [
    "# Mars hempispheres url to be scraped\n",
    "marsURL = 'https://marshemispheres.com/'\n",
    "\n",
    "# Visit url and convert browser to html\n",
    "browser.visit(marsURL)\n",
    "marsHTML = browser.html\n",
    "\n",
    "# Create BS object to parse the html, use html.parser\n",
    "mars_soup = BeautifulSoup(marsHTML, 'html.parser')\n",
    "# print(mars_soup.prettify)\n",
    "\n",
    "# Find title and image href\n",
    "mars_results = mars_soup.find_all('div', class_= 'item')\n",
    "# mars_results\n",
    "\n",
    "\n",
    "# Loop thru mars_results to find title and full resolution imageURL\n",
    "mars_title = []\n",
    "mars_imageURL = []\n",
    "# mars_href = []\n",
    "\n",
    "for r in mars_results:\n",
    "    \n",
    "#   Find title, 'h3'\n",
    "    h3 = r.find_all('h3')\n",
    "    mars_title += h3\n",
    "#     time.sleep(2)\n",
    "\n",
    "\n",
    "    # Find the a tag in each class\n",
    "    a = r.find_all('a')\n",
    "    \n",
    "    # Get the html in href\n",
    "    href = a[0]['href']\n",
    "    \n",
    "    # Join sepearte indices together to make one html\n",
    "    href = list(href[0:])\n",
    "    href = [''.join(href[0:])]\n",
    "    time.sleep(2)\n",
    "#     print(href)\n",
    "\n",
    "\n",
    "    # Loop each link to find image url\n",
    "    for ref in href:\n",
    "        \n",
    "        # Scrape each link\n",
    "        outlink_url = f\"{marsURL+ref}\"\n",
    "        \n",
    "        # Visit each url and convert browser to html\n",
    "        browser.visit(outlink_url)\n",
    "        outlinkHTML = browser.html\n",
    "        \n",
    "        # Create BS to parse each html\n",
    "        outlink_soup = BeautifulSoup(outlinkHTML, 'html.parser')\n",
    "        \n",
    "        # Get image url\n",
    "        outlink_results = outlink_soup.find_all('div', class_= 'downloads')\n",
    "#         print(outlink_results)\n",
    "\n",
    "        # Set timer\n",
    "        time.sleep(2)\n",
    "        \n",
    "      \n",
    "        for o in outlink_results:\n",
    "            a_tag = o.find_all('a')\n",
    "            image_href = a_tag[0]['href']\n",
    "            \n",
    "            # Join seperated indices together to make 1 index\n",
    "            image_href = list(image_href[0:])\n",
    "            image_href = [''.join(image_href[0:])]\n",
    "            \n",
    "            # Append image to empty list\n",
    "            mars_imageURL += image_href\n",
    "            \n",
    "            # Set timer\n",
    "            time.sleep(2)\n",
    "\n",
    "browser.quit()"
   ]
  },
  {
   "cell_type": "code",
   "execution_count": 9,
   "id": "251801ca",
   "metadata": {},
   "outputs": [
    {
     "data": {
      "text/plain": [
       "['images/full.jpg',\n",
       " 'images/schiaparelli_enhanced-full.jpg',\n",
       " 'images/syrtis_major_enhanced-full.jpg',\n",
       " 'images/valles_marineris_enhanced-full.jpg']"
      ]
     },
     "execution_count": 9,
     "metadata": {},
     "output_type": "execute_result"
    }
   ],
   "source": [
    "mars_imageURL"
   ]
  },
  {
   "cell_type": "code",
   "execution_count": 10,
   "id": "78580d90",
   "metadata": {
    "scrolled": true
   },
   "outputs": [
    {
     "data": {
      "text/plain": [
       "[<h3>Cerberus Hemisphere Enhanced</h3>,\n",
       " <h3>Schiaparelli Hemisphere Enhanced</h3>,\n",
       " <h3>Syrtis Major Hemisphere Enhanced</h3>,\n",
       " <h3>Valles Marineris Hemisphere Enhanced</h3>]"
      ]
     },
     "execution_count": 10,
     "metadata": {},
     "output_type": "execute_result"
    }
   ],
   "source": [
    "mars_title"
   ]
  },
  {
   "cell_type": "code",
   "execution_count": 11,
   "id": "2e1ba7fd",
   "metadata": {},
   "outputs": [
    {
     "data": {
      "text/plain": [
       "['Cerberus Hemisphere ',\n",
       " 'Schiaparelli Hemisphere ',\n",
       " 'Syrtis Major Hemisphere ',\n",
       " 'Valles Marineris Hemisphere ']"
      ]
     },
     "execution_count": 11,
     "metadata": {},
     "output_type": "execute_result"
    }
   ],
   "source": [
    "# Remove tags from mars_title\n",
    "title_cleaned = []\n",
    "\n",
    "for i in range(0,4):\n",
    "    \n",
    "    # Remove tags\n",
    "    clean = (mars_title[i]).get_text()\n",
    "    \n",
    "    # Join individual indices into a value\n",
    "    clean = list(clean[0:])\n",
    "    clean = [''.join(clean[0:])]\n",
    "    \n",
    "    # Append to new list, title_cleaned\n",
    "    title_cleaned += clean\n",
    "    \n",
    "title_cleaned\n",
    "\n",
    "marstitles_new = [word.replace('Enhanced','') for word in title_cleaned]\n",
    "marstitles_new"
   ]
  },
  {
   "cell_type": "code",
   "execution_count": 12,
   "id": "b8ed286c",
   "metadata": {},
   "outputs": [
    {
     "data": {
      "text/plain": [
       "['https://marshemispheres.com/images/full.jpg',\n",
       " 'https://marshemispheres.com/images/schiaparelli_enhanced-full.jpg',\n",
       " 'https://marshemispheres.com/images/syrtis_major_enhanced-full.jpg',\n",
       " 'https://marshemispheres.com/images/valles_marineris_enhanced-full.jpg']"
      ]
     },
     "execution_count": 12,
     "metadata": {},
     "output_type": "execute_result"
    }
   ],
   "source": [
    "# Append marsURL to mars_imageURL\n",
    "mars_imageURL_cleaned = []\n",
    "\n",
    "for m in range(0, 4):\n",
    "    \n",
    "    # Combine original url and image url\n",
    "    clean2 = f\"{marsURL + mars_imageURL[m]}\"\n",
    "    \n",
    "    # Join individual indices into a value\n",
    "    clean2 = list(clean2[0:])\n",
    "    clean2 = [''.join(clean2[0:])]\n",
    "    \n",
    "    mars_imageURL_cleaned += clean2\n",
    "    \n",
    "mars_imageURL_cleaned"
   ]
  },
  {
   "cell_type": "code",
   "execution_count": 13,
   "id": "31a5cbd7",
   "metadata": {},
   "outputs": [
    {
     "data": {
      "text/plain": [
       "[{'title': 'Cerberus Hemisphere ',\n",
       "  'img_url': 'https://marshemispheres.com/images/full.jpg'},\n",
       " {'title': 'Schiaparelli Hemisphere ',\n",
       "  'img_url': 'https://marshemispheres.com/images/schiaparelli_enhanced-full.jpg'},\n",
       " {'title': 'Syrtis Major Hemisphere ',\n",
       "  'img_url': 'https://marshemispheres.com/images/syrtis_major_enhanced-full.jpg'},\n",
       " {'title': 'Valles Marineris Hemisphere ',\n",
       "  'img_url': 'https://marshemispheres.com/images/valles_marineris_enhanced-full.jpg'}]"
      ]
     },
     "execution_count": 13,
     "metadata": {},
     "output_type": "execute_result"
    }
   ],
   "source": [
    "# Create a Dictionary from marstitles_new and mars_imageURL_cleaned\n",
    "\n",
    "hempisphere_image_urls = [\n",
    "    {\"title\": marstitles_new[0], \"img_url\": mars_imageURL_cleaned[0]},\n",
    "    {\"title\": marstitles_new[1], \"img_url\": mars_imageURL_cleaned[1]},\n",
    "    {\"title\": marstitles_new[2], \"img_url\": mars_imageURL_cleaned[2]},\n",
    "    {\"title\": marstitles_new[3], \"img_url\": mars_imageURL_cleaned[3]}\n",
    "]\n",
    "hempisphere_image_urls"
   ]
  },
  {
   "cell_type": "code",
   "execution_count": 14,
   "id": "9c0d1842",
   "metadata": {},
   "outputs": [],
   "source": [
    "# -----------------------------------------------\n",
    "# <div class=\"collapsible results\">\n",
    "# <div class=\"item\">\n",
    "# <a class=\"itemLink product-item\" href=\"cerberus.html\"><img alt=\"Cerberus Hemisphere Enhanced thumbnail\" \n",
    "# class=\"thumb\" src=\"images/39d3266553462198bd2fbc4d18fbed17_cerberus_enhanced.tif_thumb.png\"/></a>\n",
    "# <div class=\"description\">\n",
    "# <a class=\"itemLink product-item\" href=\"cerberus.html\">\n",
    "# <h3>Cerberus Hemisphere Enhanced</h3>\n",
    "# </a>\n",
    "\n",
    "# <div id=\"wide-image\" class=\"wide-image-wrapper \" style=\"max-height: 1296px;\">\n",
    "\n",
    "#<div class=\"downloads\">\n",
    "#<img class=\"thumb\" src=\"images/39d3266553462198bd2fbc4d18fbed17_cerberus_enhanced.tif_thumb.png\">\n",
    "#</div>\n",
    "\n",
    "#<img class=\"wide-image\" src=\"images/f5e372a36edfa389625da6d0cc25d905_cerberus_enhanced.tif_full.jpg\">\n",
    "#<a id=\"wide-image-toggle\" class=\"open-toggle\" href=\"#open\">Close</a>\n",
    "#</div>\n",
    "\n",
    "# -----------------------------------------------\n",
    "    # [<div class=\"downloads\">\n",
    "    # <img class=\"thumb\" src=\"images/08eac6e22c07fb1fe72223a79252de20_schiaparelli_enhanced.tif_thumb.png\"/>\n",
    "    # <h3>Download</h3><ul>\n",
    "    # <li><a href=\"images/schiaparelli_enhanced-full.jpg\" target=\"_blank\">Sample</a> (jpg) 1024px wide</li>\n",
    "    \n",
    "#     <li><a href=\"images/full.jpg\" target=\"_blank\">Sample</a> (jpg) 1024px wide</li>"
   ]
  }
 ],
 "metadata": {
  "kernelspec": {
   "display_name": "Python 3 (ipykernel)",
   "language": "python",
   "name": "python3"
  },
  "language_info": {
   "codemirror_mode": {
    "name": "ipython",
    "version": 3
   },
   "file_extension": ".py",
   "mimetype": "text/x-python",
   "name": "python",
   "nbconvert_exporter": "python",
   "pygments_lexer": "ipython3",
   "version": "3.7.13"
  }
 },
 "nbformat": 4,
 "nbformat_minor": 5
}

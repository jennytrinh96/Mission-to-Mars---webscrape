{
 "cells": [
  {
   "cell_type": "code",
   "execution_count": 1,
   "id": "4ec4762a",
   "metadata": {},
   "outputs": [],
   "source": [
    "# Import Dependencies\n",
    "\n",
    "from bs4 import BeautifulSoup\n",
    "import requests\n",
    "from splinter import Browser\n",
    "from webdriver_manager.chrome import ChromeDriverManager\n",
    "import time"
   ]
  },
  {
   "cell_type": "code",
   "execution_count": 2,
   "id": "94b5512b",
   "metadata": {},
   "outputs": [],
   "source": [
    "# Setup Splinter\n",
    "executable_path = {'executable_path': ChromeDriverManager().install()}\n",
    "browser = Browser('chrome', **executable_path, headless= False)"
   ]
  },
  {
   "cell_type": "code",
   "execution_count": 23,
   "id": "82313d88",
   "metadata": {},
   "outputs": [],
   "source": [
    "# News url to be scraped\n",
    "\n",
    "news_url = 'https://redplanetscience.com/'\n",
    "\n",
    "# Test response\n",
    "response = requests.get(news_url)\n",
    "# response\n",
    "\n",
    "# Visit url and convert browser to html\n",
    "browser.visit(news_url)\n",
    "news_html = browser.html\n",
    "\n",
    "# Create BS object to pasre the html, use html.parser\n",
    "news_soup = BeautifulSoup(news_html, 'html.parser')\n",
    "# print(news_soup)\n",
    "\n",
    "# Find latest News Title and Paragraph text, assign to variables for later use\n",
    "\n",
    "# Look for: div with 'content_title' class for News Title\n",
    "title = news_soup.find('div', class_= 'content_title')\n",
    "news_title = ''\n",
    "\n",
    "for t in title: \n",
    "#     print(t)\n",
    "    news_title += str(t)\n",
    "    \n",
    "# Look for: div with 'article_teaser_body' class for paragraph text\n",
    "p_text = news_soup.find('div', class_= 'article_teaser_body')\n",
    "news_p = ''\n",
    "\n",
    "for np in p_text: \n",
    "#     print(np)\n",
    "    news_p += str(np)\n"
   ]
  },
  {
   "cell_type": "code",
   "execution_count": 26,
   "id": "1404694d",
   "metadata": {
    "scrolled": false
   },
   "outputs": [
    {
     "data": {
      "text/plain": [
       "'https://spaceimages-mars.com/image/featured/mars3.jpg'"
      ]
     },
     "execution_count": 26,
     "metadata": {},
     "output_type": "execute_result"
    }
   ],
   "source": [
    "# Space images url to be scraped\n",
    "\n",
    "space_imageURL = 'https://spaceimages-mars.com/'\n",
    "\n",
    "# Visit url and convert browser to html\n",
    "browser.visit(space_imageURL)\n",
    "space_imageHTML = browser.html\n",
    "\n",
    "# Create BS object to pasre the html, use html.parser\n",
    "space_image_soup = BeautifulSoup(space_imageHTML, 'html.parser')\n",
    "# print(space_image_soup)\n",
    "\n",
    "\n",
    "# Find image URL for Featured Mars Image\n",
    "\n",
    "image_href = space_image_soup.find('div', class_='floating_text_area' )\n",
    "# print(image_href.a['href'])\n",
    "featured_image_url = f\"{space_imageURL}\" + f\"{image_href.a['href']}\"\n",
    "featured_image_url\n",
    "\n",
    "\n",
    "# <div class=\"floating_text_area\">\n",
    "# <h2 class=\"brand_title\">FEATURED IMAGE</h2>\n",
    "# <h1 class=\"media_feature_title\">Dusty Space Cloud</h1>\n",
    "# <br/>\n",
    "# <a class=\"showimg fancybox-thumbs\" href=\"image/featured/mars2.jpg\" target=\"_blank\"> <button class=\"btn btn-outline-light\"> FULL IMAGE</button></a>\n",
    "# </div>"
   ]
  }
 ],
 "metadata": {
  "kernelspec": {
   "display_name": "Python 3 (ipykernel)",
   "language": "python",
   "name": "python3"
  },
  "language_info": {
   "codemirror_mode": {
    "name": "ipython",
    "version": 3
   },
   "file_extension": ".py",
   "mimetype": "text/x-python",
   "name": "python",
   "nbconvert_exporter": "python",
   "pygments_lexer": "ipython3",
   "version": "3.7.13"
  }
 },
 "nbformat": 4,
 "nbformat_minor": 5
}
